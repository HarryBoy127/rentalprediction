{
 "cells": [
  {
   "cell_type": "markdown",
   "metadata": {},
   "source": [
    "## Data Cleaning \n",
    "\n",
    "You'll notice that this dataset is by no means ready for analysis. We have:\n",
    "\n",
    "* a numeric column interpreted as a string\n",
    "* extra columns that are not relevant to our analysis\n",
    "* multiple rows with missing values\n",
    "* column names are too long\n",
    "\n",
    "Let's \"clean\" our dataset by fixing these errors below."
   ]
  },
  {
   "cell_type": "code",
   "execution_count": 23,
   "metadata": {},
   "outputs": [],
   "source": [
    "# import required modules for this project\n",
    "\n",
    "import pandas as pd\n",
    "import numpy as np\n",
    "\n",
    "import matplotlib.pyplot as plt\n",
    "import seaborn as sns"
   ]
  },
  {
   "cell_type": "code",
   "execution_count": 24,
   "metadata": {},
   "outputs": [
    {
     "data": {
      "text/plain": [
       "No                                         0\n",
       "X2 house age                              11\n",
       "X3 distance to the nearest MRT station     0\n",
       "X4 number of convenience stores            1\n",
       "X5 latitude                                0\n",
       "X6 longitude                               0\n",
       "Y house price of unit area                 0\n",
       "dtype: int64"
      ]
     },
     "execution_count": 24,
     "metadata": {},
     "output_type": "execute_result"
    }
   ],
   "source": [
    "# TODO: load in excel file \"../../data/raw/realestate.xlsx\"\n",
    "# documentation: https://pandas.pydata.org/docs/reference/api/pandas.read_excel.html\n",
    "df = ...\n",
    "\n",
    "# check how many missing values we have\n",
    "df.isna().sum()"
   ]
  },
  {
   "cell_type": "code",
   "execution_count": 26,
   "metadata": {},
   "outputs": [
    {
     "data": {
      "text/plain": [
       "Index(['No', 'house_age', 'distance_to_mrt', 'num_convenience_stores', 'lat',\n",
       "       'long', 'price_unit_area'],\n",
       "      dtype='object')"
      ]
     },
     "execution_count": 26,
     "metadata": {},
     "output_type": "execute_result"
    }
   ],
   "source": [
    "# create dictionary of mappings\n",
    "rename_dict = {\n",
    "    \"X2 house age\": \"house_age\", \n",
    "    \"X3 distance to the nearest MRT station\": \"distance_to_mrt\", \n",
    "    \"X4 number of convenience stores\": \"num_convenience_stores\",\n",
    "    \"X5 latitude\": \"lat\",\n",
    "    \"X6 longitude\": \"long\",\n",
    "    \"Y house price of unit area\": \"price_unit_area\"\n",
    "}\n",
    "\n",
    "# rename columns\n",
    "df_rename = df.rename(columns=rename_dict)\n",
    "\n",
    "# view new columns\n",
    "df_rename.columns"
   ]
  },
  {
   "cell_type": "code",
   "execution_count": 27,
   "metadata": {},
   "outputs": [],
   "source": [
    "selected = [\"lat\", \"long\", \"No\"]\n",
    "\n",
    "# TODO: Drop the selected columns \n",
    "# documentation: https://pandas.pydata.org/docs/reference/api/pandas.DataFrame.drop.html\n",
    "df_drop = ..."
   ]
  },
  {
   "cell_type": "code",
   "execution_count": null,
   "metadata": {},
   "outputs": [],
   "source": [
    "# remove quotes from sample\n",
    "df_drop[\"distance_to_mrt\"] = df_drop[\"distance_to_mrt\"].str.strip(\"\\\"\")\n",
    "\n",
    "# TODO: convert the \"distance_to_mrt\" column to the \"float\" datatype\n",
    "# documentation: https://pandas.pydata.org/docs/reference/api/pandas.DataFrame.astype.html\n",
    "df_drop[\"distance_to_mrt\"] = ..."
   ]
  },
  {
   "cell_type": "code",
   "execution_count": null,
   "metadata": {},
   "outputs": [],
   "source": [
    "# check current \"shape\" of dataframe\n",
    "df_drop.shape"
   ]
  },
  {
   "cell_type": "code",
   "execution_count": null,
   "metadata": {},
   "outputs": [],
   "source": [
    "# TODO: Remove missing values from this dataframe\n",
    "# documentation: https://pandas.pydata.org/docs/reference/api/pandas.DataFrame.dropna.html\n",
    "...\n",
    "\n",
    "# check shape again\n",
    "df_drop.shape"
   ]
  },
  {
   "cell_type": "markdown",
   "metadata": {},
   "source": [
    "## Explore Again\n",
    "\n",
    "Now that we've cleaned our dataset, let's again explore the relationships & distributions of our dataset. \n",
    "\n",
    "Perhaps we missed something \"qualitative\" about our data that we should remove. "
   ]
  },
  {
   "cell_type": "code",
   "execution_count": null,
   "metadata": {},
   "outputs": [],
   "source": [
    "# TODO: print out the summary statistics (mean, median, max, min, count) of all numeric columns\n",
    "# documentation: https://pandas.pydata.org/docs/reference/api/pandas.DataFrame.describe.html\n",
    "..."
   ]
  },
  {
   "cell_type": "code",
   "execution_count": 49,
   "metadata": {},
   "outputs": [
    {
     "data": {
      "text/plain": [
       "(402, 4)"
      ]
     },
     "execution_count": 49,
     "metadata": {},
     "output_type": "execute_result"
    }
   ],
   "source": [
    "# notice how the minimum value for \"num_convenience_stores\" is -6\n",
    "# how do we have -6 convenience stores? this must be an error, let's remove it\n",
    "\n",
    "df_outl = df_drop[df_drop.num_convenience_stores >= 0]\n",
    "df_outl.shape"
   ]
  },
  {
   "cell_type": "code",
   "execution_count": 56,
   "metadata": {},
   "outputs": [
    {
     "data": {
      "text/plain": [
       "(401, 4)"
      ]
     },
     "execution_count": 56,
     "metadata": {},
     "output_type": "execute_result"
    }
   ],
   "source": [
    "# notice how the maximum value for \"num_convenience_stores\" is 100\n",
    "# (the median convenice stores is 4, the mean is 4.29, this shows that this is most likely an error)\n",
    "\n",
    "# TODO: implement this logic in the brackets\n",
    "# documentation: https://pandas.pydata.org/docs/user_guide/indexing.html#boolean-indexing\n",
    "df_outl = df_outl[...]\n",
    "df_outl.shape"
   ]
  },
  {
   "cell_type": "code",
   "execution_count": 57,
   "metadata": {},
   "outputs": [
    {
     "data": {
      "text/plain": [
       "(400, 4)"
      ]
     },
     "execution_count": 57,
     "metadata": {},
     "output_type": "execute_result"
    }
   ],
   "source": [
    "# notice how the maximum \"house_age\" is 410.3 years old \n",
    "# not looking at statistics, the oldest house in Taiwan was built in the 17th century (300 years at most)\n",
    "# let's remove this value\n",
    "df_outl = df_outl[df_outl.house_age != 410.3]\n",
    "df_outl.shape"
   ]
  },
  {
   "cell_type": "code",
   "execution_count": null,
   "metadata": {},
   "outputs": [],
   "source": [
    "# let's explore our visualizations again, starting with univariate\n",
    "\n",
    "# TODO : plot histogram of \"price_unit_area\" using sns here\n",
    "# documentation: https://seaborn.pydata.org/generated/seaborn.histplot.html\n",
    "..."
   ]
  },
  {
   "cell_type": "code",
   "execution_count": null,
   "metadata": {},
   "outputs": [],
   "source": [
    "# TODO : plot histogram of \"house_age\" using sns here\n",
    "# documentation: https://seaborn.pydata.org/generated/seaborn.histplot.html\n",
    "..."
   ]
  },
  {
   "cell_type": "code",
   "execution_count": null,
   "metadata": {},
   "outputs": [],
   "source": [
    "# TODO : plot histogram of \"num_convenience_stores\" using sns here\n",
    "# documentation: https://seaborn.pydata.org/generated/seaborn.histplot.html\n",
    "..."
   ]
  },
  {
   "cell_type": "code",
   "execution_count": 1,
   "metadata": {},
   "outputs": [],
   "source": [
    "# TODO : plot histogram of \"distance_to_mrt\" using sns here\n",
    "# documentation: https://seaborn.pydata.org/generated/seaborn.histplot.html\n",
    "..."
   ]
  },
  {
   "cell_type": "code",
   "execution_count": null,
   "metadata": {},
   "outputs": [],
   "source": [
    "# next we move onto scatter-plots (bi-variate analysis)\n",
    "\n",
    "# TODO : plot scatter plot of \"house_age\" and \"price_unit_area\"\n",
    "# documentation: https://seaborn.pydata.org/generated/seaborn.scatterplot.html\n",
    "..."
   ]
  },
  {
   "cell_type": "code",
   "execution_count": null,
   "metadata": {},
   "outputs": [],
   "source": [
    "# TODO : plot scatter plot of \"num_convenice_stores\" and \"price_unit_area\"\n",
    "# documentation: https://seaborn.pydata.org/generated/seaborn.scatterplot.html\n",
    "..."
   ]
  },
  {
   "cell_type": "code",
   "execution_count": null,
   "metadata": {},
   "outputs": [],
   "source": [
    "# TODO : plot scatter plot of \"distance_to_mrt\" and \"price_unit_area\"\n",
    "# documentation: https://seaborn.pydata.org/generated/seaborn.scatterplot.html\n",
    "..."
   ]
  },
  {
   "cell_type": "code",
   "execution_count": 68,
   "metadata": {},
   "outputs": [
    {
     "name": "stderr",
     "output_type": "stream",
     "text": [
      "C:\\Users\\saidmf\\AppData\\Local\\Temp\\ipykernel_13920\\4107131777.py:1: DeprecationWarning: `np.bool` is a deprecated alias for the builtin `bool`. To silence this warning, use `bool` by itself. Doing this will not modify any behavior and is safe. If you specifically wanted the numpy scalar type, use `np.bool_` here.\n",
      "Deprecated in NumPy 1.20; for more details and guidance: https://numpy.org/devdocs/release/1.20.0-notes.html#deprecations\n",
      "  mask = np.triu(np.ones_like(df_outl.corr(), dtype=np.bool))\n"
     ]
    },
    {
     "data": {
      "image/png": "[encoded data removed]",
      "text/plain": [
       "<Figure size 432x288 with 2 Axes>"
      ]
     },
     "metadata": {
      "needs_background": "light"
     },
     "output_type": "display_data"
    }
   ],
   "source": [
    "mask = np.triu(np.ones_like(df_outl.corr(), dtype=np.bool))\n",
    "\n",
    "sns.heatmap(df_outl.corr(), annot=True, mask=mask)\n",
    "plt.show()"
   ]
  },
  {
   "cell_type": "code",
   "execution_count": 69,
   "metadata": {},
   "outputs": [],
   "source": [
    "# save data for later modeling\n",
    "df_drop.to_csv(\"../../data/processed/tpdata.csv\", index=False)"
   ]
  }
 ],
 "metadata": {
  "kernelspec": {
   "display_name": "Python 3",
   "language": "python",
   "name": "python3"
  },
  "language_info": {
   "codemirror_mode": {
    "name": "ipython",
    "version": 3
   },
   "file_extension": ".py",
   "mimetype": "text/x-python",
   "name": "python",
   "nbconvert_exporter": "python",
   "pygments_lexer": "ipython3",
   "version": "3.10.7"
  },
  "orig_nbformat": 4
 },
 "nbformat": 4,
 "nbformat_minor": 2
}
